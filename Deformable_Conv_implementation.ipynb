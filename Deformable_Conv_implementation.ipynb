{
  "nbformat": 4,
  "nbformat_minor": 0,
  "metadata": {
    "colab": {
      "name": "Deformable_Conv_implementation.ipynb",
      "provenance": []
    },
    "kernelspec": {
      "name": "python3",
      "display_name": "Python 3"
    },
    "language_info": {
      "name": "python"
    },
    "accelerator": "GPU"
  },
  "cells": [
    {
      "cell_type": "markdown",
      "source": [
        "This is an atempt to implement the Deformable Convolution Layer as described in the 2017 paper by Jifeng Dai et al. \n",
        "\n",
        "Inspiration was taken from the implementation of Juliang Wang (https://github.com/Junliangwangdhu/WaferMap) for mixed-type wafer defect classification."
      ],
      "metadata": {
        "id": "WBHW55QVcctR"
      }
    },
    {
      "cell_type": "code",
      "source": [
        "import numpy as np\n",
        "import tensorflow as tf\n",
        "print(f\"tensorflow version: {tf.__version__}\")\n",
        "from tensorflow.keras import layers\n",
        "from tensorflow.keras.layers import Layer, Conv2D, MaxPooling2D\n",
        "\n",
        "import matplotlib.pyplot as plt\n",
        "%matplotlib inline\n",
        "\n",
        "filepath = 'drive/MyDrive/Colab Notebooks/Wafer_defect/Trained_Model_wGPU_20E_weights/'"
      ],
      "metadata": {
        "id": "VHXa24Qdc_hK",
        "colab": {
          "base_uri": "https://localhost:8080/"
        },
        "outputId": "bf36e3fa-a438-4bb7-d949-6c46c9e42fd0"
      },
      "execution_count": 1,
      "outputs": [
        {
          "output_type": "stream",
          "name": "stdout",
          "text": [
            "tensorflow version: 2.7.0\n"
          ]
        }
      ]
    },
    {
      "cell_type": "markdown",
      "source": [
        "Loading and Visualizing Dataset"
      ],
      "metadata": {
        "id": "qJiXZ-ZFdeOG"
      }
    },
    {
      "cell_type": "code",
      "source": [
        "dataset = np.load('drive/MyDrive/Colab Notebooks/Wafer_defect/MixedWM38.npz')\n",
        "dataset_x, dataset_y = dataset['arr_0'], dataset['arr_1']\n",
        "m, n_H, n_W = dataset_x.shape\n",
        "\n",
        "print(f\"dataset_x shape: {dataset_x.shape}\")\n",
        "print(f\"dataset_y shape: {dataset_y.shape}\")"
      ],
      "metadata": {
        "colab": {
          "base_uri": "https://localhost:8080/"
        },
        "id": "JaNnzHmhdY0P",
        "outputId": "09b57d3f-b8d5-4faf-b53c-89b6b9606f3a"
      },
      "execution_count": 2,
      "outputs": [
        {
          "output_type": "stream",
          "name": "stdout",
          "text": [
            "dataset_x shape: (38015, 52, 52)\n",
            "dataset_y shape: (38015, 8)\n"
          ]
        }
      ]
    },
    {
      "cell_type": "code",
      "source": [
        "# plot example\n",
        "random_example = np.random.randint(0, dataset_x.shape[0])\n",
        "plt.imshow(dataset_x[random_example,:,:])\n",
        "plt.title(f'Fault: {dataset_y[random_example]}')"
      ],
      "metadata": {
        "colab": {
          "base_uri": "https://localhost:8080/",
          "height": 298
        },
        "id": "OurQMfgJdYpd",
        "outputId": "3e2359fe-e02a-4f04-b73a-4c74df93476a"
      },
      "execution_count": 3,
      "outputs": [
        {
          "output_type": "execute_result",
          "data": {
            "text/plain": [
              "Text(0.5, 1.0, 'Fault: [0 1 1 0 1 0 0 0]')"
            ]
          },
          "metadata": {},
          "execution_count": 3
        },
        {
          "output_type": "display_data",
          "data": {
            "image/png": "[encoded data removed]",
            "text/plain": [
              "<Figure size 432x288 with 1 Axes>"
            ]
          },
          "metadata": {
            "needs_background": "light"
          }
        }
      ]
    },
    {
      "cell_type": "markdown",
      "source": [
        "Split Dataset into Train/Dev/Test sets"
      ],
      "metadata": {
        "id": "tGH4x__cdugl"
      }
    },
    {
      "cell_type": "code",
      "source": [
        "# reshape the input to have shape of image with 1 channel\n",
        "dataset_x_cnn = np.expand_dims(dataset_x, axis=-1)\n",
        "\n",
        "# split the dataset into train (80%), dev(10%) and test(10%) sets\n",
        "shuffled_idx = np.asarray(list(range(dataset_x_cnn.shape[0])))\n",
        "np.random.shuffle(shuffled_idx)\n",
        "\n",
        "shuffled_x = dataset_x_cnn[shuffled_idx, :, :, :]\n",
        "shuffled_y = dataset_y[shuffled_idx, :]\n",
        "\n",
        "train_cut = int(shuffled_x.shape[0]*.80)\n",
        "\n",
        "dev_cut = int(shuffled_x.shape[0]*.90)\n",
        "\n",
        "train_x = shuffled_x[:train_cut, :, :, :]\n",
        "train_y = shuffled_y[:train_cut, :]\n",
        "\n",
        "dev_x = shuffled_x[train_cut:dev_cut, :, :, :]\n",
        "dev_y = shuffled_y[train_cut:dev_cut, :]\n",
        "\n",
        "test_x = shuffled_x[dev_cut:, :, :]\n",
        "test_y = shuffled_y[dev_cut:, :]"
      ],
      "metadata": {
        "id": "gjEO-Jvmdu-1"
      },
      "execution_count": 48,
      "outputs": []
    },
    {
      "cell_type": "code",
      "source": [
        "print(f\"train set shape: {train_x.shape}\")\n",
        "print(f\"dev set shape: {dev_x.shape}\")\n",
        "print(f\"test set shape: {test_x.shape}\")\n",
        "\n",
        "print(\"\\n\")\n",
        "print(f\"size of input shape to the model:\\nn_H: {n_H}\\nn_W: {n_W}\")"
      ],
      "metadata": {
        "colab": {
          "base_uri": "https://localhost:8080/"
        },
        "id": "gWo4Qp6deBCc",
        "outputId": "1ce7fef4-a298-4a76-9692-87938bf2e200"
      },
      "execution_count": 5,
      "outputs": [
        {
          "output_type": "stream",
          "name": "stdout",
          "text": [
            "train set shape: (30412, 52, 52, 1)\n",
            "dev set shape: (3801, 52, 52, 1)\n",
            "test set shape: (3802, 52, 52, 1)\n",
            "\n",
            "\n",
            "size of input shape to the model:\n",
            "n_H: 52\n",
            "n_W: 52\n"
          ]
        }
      ]
    },
    {
      "cell_type": "markdown",
      "source": [
        "Defining a new tensorflow layer class \"DefConvLayer\"\n",
        "\n",
        "Notes:\n",
        "1.   the offset metrices are learned through a standard convolutional layer, with 2xN number of filters (=channels) corresponding to N 2D offsets *for each input pixel*.\n",
        "2.   There is a set of 2D offsets for each spatial location of the input feature map. from the 2017 paper: \"The output offset fields have the same spatial resolution with the input feature map.\"\n",
        "     Meaning, it won't be enough to compute a static \"offset\" input \"x_offset\" and then applyting regular convolution, but each output pixel need to compute the kernel weightings on a different locations of input pixels/values. for that, I'll use a straight forward implementation of the deformable convolutional block.\n",
        "3.   Since the offsets are fractional values, the values of the input at the offset location will be \"estimated\" using [Bi-linear Interpolation](https://en.wikipedia.org/wiki/Bilinear_interpolation). Using the notation of the figure below, first I'll compute the linear interpolation of the top and bottom coordinates R1 and R2, then use these values to compute a second linear interpolation for the coordinate P.\n",
        "\n",
        "\n",
        "![image.png](data:image/png;base64,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)\n",
        "\n",
        "![image.png](data:image/png;base64,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)\n",
        "\n",
        "\n",
        "![image.png](data:image/png;base64,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)\n",
        "\n"
      ],
      "metadata": {
        "id": "114EuYOp3qUI"
      }
    },
    {
      "cell_type": "code",
      "source": [
        "def DefConv_full(input, filters, kernel_size=3, strides=1, name=None):\n",
        "    \"\"\"\n",
        "    Using DefConv_reduced to implement full DC layer.\n",
        "    \"\"\"\n",
        "    offsets = layers.Conv2D(name=f'Conv2D_offsets_{name}',\n",
        "                            filters=2 * kernel_size ** 2,\n",
        "                            kernel_size=kernel_size,\n",
        "                            strides=strides,\n",
        "                            padding='same',\n",
        "                            kernel_initializer='random_normal'\n",
        "                            )(input)\n",
        "    X = DefConvLayer_red(name=f'defconv_{name}',\n",
        "                         filters=filters,\n",
        "                         kernel_size=kernel_size,\n",
        "                         strides=strides\n",
        "                         )(input, offsets)\n",
        "    return X\n",
        "\n",
        "\n",
        "\n",
        "class DefConvLayer_red(Layer):\n",
        "\n",
        "    def __init__(self, filters, kernel_size=3, strides=1, **kwargs):\n",
        "        assert type(kernel_size) == int, \"expect kernel_size to be of type 'int'\"\n",
        "        assert type(strides) == int, \"expect strides to be of type int\"\n",
        "        self.N = kernel_size ** 2\n",
        "        self.filters = filters\n",
        "        self.strides = strides\n",
        "\n",
        "        super(DefConvLayer_red, self).__init__(**kwargs)\n",
        "\n",
        "    def build(self, input_shape):\n",
        "        self.W = self.add_weight(name=\"Wdc\",\n",
        "                                 shape=(input_shape[-1], self.N, self.filters),\n",
        "                                 # Wdc is of shape [n_C=input_channels, lxl=N, filters=output_channels]\n",
        "                                 initializer='RandomNormal',\n",
        "                                 dtype='float32',\n",
        "                                 trainable=True)\n",
        "\n",
        "    def call(self, input, offsets):\n",
        "        # input of shape: (m=batch_size, n_H, n_W, n_C)\n",
        "        # offsets of shape: (m, n_H, n_W, 2*N)\n",
        "        # m, n_H, n_W, n_C = input.shape\n",
        "        # offsets = super(DefConvLayer, self).call(input) # Conv2D to learn offsets (m, n_H, n_W, 2*N)\n",
        "\n",
        "        input_offsets = self.BLIN(input, offsets)  # (m, n_H, n_W, n_C, N)\n",
        "        # BLIN returns N interpolated values of input at the offsets, for each spatial pixel\n",
        "        # replicate the offset input to each of the output channels\n",
        "        input_offsets = tf.expand_dims(input_offsets, axis=-1)\n",
        "        input_offsets = tf.tile(input_offsets, [1, 1, 1, 1, 1, self.filters])  # (m, n_H, n_W, n_C, N, filters)\n",
        "\n",
        "        new_shape = (1, 1, 1,) + self.W.shape\n",
        "        W = tf.reshape(self.W, shape=new_shape)  # (1, 1, 1, n_C, N, filters) to be broadcastable to input_offsets\n",
        "\n",
        "        output = tf.multiply(input_offsets, W)  # (m, n_H, n_W, n_C, N, filters)\n",
        "        output = tf.math.reduce_sum(output, axis=-2)  # (m, n_H, n_W, n_C, filters) reduce along each channel kernel\n",
        "        output = tf.math.reduce_sum(output, axis=-2)  # (m, n_H, n_W, filters) reduce along input channels\n",
        "        return output\n",
        "\n",
        "    @tf.function\n",
        "    def BLIN(self, input, offsets_in):  # Bi-Linear Interpolation of input feature map values at offset locations\n",
        "        \"\"\"\n",
        "        'input' shape: (m, n_Hi, n_Wi, n_C)\n",
        "        'offsets_in' shape: (m, n_Ho, n_Wo, 2*N)\n",
        "        'offsets_in' is the output of the Conv2D layer step aimed at learning the offsets,\n",
        "                     possibly smaller spatial size than input's, if strides>1\n",
        "        \"\"\"\n",
        "        offsets = offsets_in\n",
        "        m    = tf.shape(input)[0]\n",
        "        n_Hi = tf.shape(input)[1]\n",
        "        n_Wi = tf.shape(input)[2]\n",
        "        n_C  = tf.shape(input)[3]\n",
        "\n",
        "        n_Ho = tf.shape(offsets)[1] # also the output spatial shape\n",
        "        n_Wo = tf.shape(offsets)[2]\n",
        "        N    = tf.shape(offsets)[3] // 2\n",
        "\n",
        "        # expand the input into (m, n_Hi, n_Wi, n_C, N). this will also be the output shape of this function\n",
        "        input_offsets = tf.expand_dims(input, axis=-1) # (m, n_Hi, n_Wi, n_C, N, 1)\n",
        "        # replicate N times, to be compatible with the kernel operation later\n",
        "        input_offsets = tf.tile(input_offsets, [1, 1, 1, 1, N])  # (m, n_Hi, n_Wi, n_C, N)\n",
        "\n",
        "        # the offset metrices will be replicated n_C times: same (spatial) offsets for each of the input *channels*.\n",
        "        offsets = tf.reshape(offsets, (m, n_Ho, n_Wo, 1, N, 2))  # (m, n_Ho, n_Wo, 1, N, 2) add a \"channel\" axis\n",
        "        offsets = tf.tile(offsets, [1, 1, 1, n_C, 1, 1])  # (m, n_Ho, n_Wo, n_C, N, 2) replicate for each of the input channels\n",
        "\n",
        "        # construct a full index grid to be applied onto \"input_offsets\" of size (m, n_H, n_W, n_C, N)\n",
        "        (grid_m, grid_i, grid_j, grid_c, grid_N) = tf.meshgrid(tf.range(m), tf.range(n_Hi),\n",
        "                                                               tf.range(n_Wi), tf.range(n_C), tf.range(N),\n",
        "                                                               indexing='ij')  # (m, n_Hi, n_Wi, n_C, N) a list of 5 metrices with index-like values\n",
        "\n",
        "        # adjust indices to 'strides' down-sample, and\n",
        "        # unroll indices to fit into tf.gather_nd later. (unroll offsets also)\n",
        "        ur_grid_m = tf.reshape(grid_m[:, ::self.strides, ::self.strides, :, :], [-1])  # (m*n_Ho*n_Wo*n_C*N, 1); integers\n",
        "        ur_grid_i = tf.reshape(grid_i[:, ::self.strides, ::self.strides, :, :], [-1])\n",
        "        ur_grid_j = tf.reshape(grid_j[:, ::self.strides, ::self.strides, :, :], [-1])\n",
        "        ur_grid_c = tf.reshape(grid_c[:, ::self.strides, ::self.strides, :, :], [-1])\n",
        "        ur_grid_N = tf.reshape(grid_N[:, ::self.strides, ::self.strides, :, :], [-1])\n",
        "        ur_offsets = tf.reshape(offsets, (-1, 2))  # (m*n_Ho*n_Wo*n_C*N, 2) both i, j\n",
        "\n",
        "        # spatial indices will be adjusted using 'offsets'\n",
        "        coords_i = tf.cast(ur_grid_i, dtype='float32') + ur_offsets[..., 0]\n",
        "        coords_j = tf.cast(ur_grid_j, dtype='float32') + ur_offsets[..., 1]\n",
        "\n",
        "        # Need to think further on how to handle edges,\n",
        "        # perhaps assume outside of index values can be zeros instead of hard-clipping.\n",
        "        coords_i = tf.clip_by_value(coords_i, 0, tf.cast(n_Hi, dtype='float32')-1)\n",
        "        coords_j = tf.clip_by_value(coords_j, 0, tf.cast(n_Wi, dtype='float32')-1)\n",
        "        coords_2d = tf.stack([coords_i, coords_j], axis=-1)  # (m*n_Ho*n_Wo*n_C*N, 2); float32\n",
        "\n",
        "        # generate top and bottom, left and right, nearest \"real\" indices\n",
        "        # assuming coords represents (p,q) values where i<=p<=i+1, and j<=q<=j+1:\n",
        "        # shape: (m*n_Ho*n_Wo*n_C*N, 2)\n",
        "        # note the coordinates themselves (values in coords) are [i,j] within [0:n_Hi-1, 0:n_Wi] range\n",
        "        coords_lt = tf.cast(tf.math.floor(coords_2d), dtype='int32')  # nearest (i,j)\n",
        "        coords_rb = tf.cast(tf.math.ceil(coords_2d), dtype='int32')  # nearest (i+1, j+1)\n",
        "\n",
        "        coords_lb = tf.stack((coords_rb[..., 0], coords_lt[..., 1]), axis=-1)  # nearest (i+1, j)\n",
        "        coords_rt = tf.stack((coords_lt[..., 0], coords_rb[..., 1]), axis=-1)  # nearest (i, j+1)\n",
        "\n",
        "        # use the replicated input tensor \"input_offsets\" which holds the input values, to get these values at the specific locations:\n",
        "        # these type of Tensors doesn't allow for conversion into numpy-like arrays. to use tf.gather_nd, need to unroll indices\n",
        "        # unroll all grid tensors to be used with tf.gather_nd()\n",
        "\n",
        "        indices_lt = tf.stack([ur_grid_m, coords_lt[..., 0], coords_lt[..., 1], ur_grid_c, ur_grid_N], axis=-1)\n",
        "        indices_rb = tf.stack([ur_grid_m, coords_rb[..., 0], coords_rb[..., 1], ur_grid_c, ur_grid_N], axis=-1)\n",
        "        indices_lb = tf.stack([ur_grid_m, coords_lb[..., 0], coords_lb[..., 1], ur_grid_c, ur_grid_N], axis=-1)\n",
        "        indices_rt = tf.stack([ur_grid_m, coords_rt[..., 0], coords_rt[..., 1], ur_grid_c, ur_grid_N], axis=-1)\n",
        "\n",
        "        vals_lt = tf.gather_nd(input_offsets, indices_lt)\n",
        "        vals_rb = tf.gather_nd(input_offsets, indices_rb)\n",
        "        vals_lb = tf.gather_nd(input_offsets, indices_lb)\n",
        "        vals_rt = tf.gather_nd(input_offsets, indices_rt)\n",
        "\n",
        "        # calculate the offset from the left-top (i,j) position\n",
        "        ur_coords_offset_lt = coords_2d - tf.cast(coords_lt, dtype='float32')  # (m*n_Ho*n_Wo*n_C*N, 2)\n",
        "\n",
        "        # first linear interpolation (m*n_H*n_W*n_C*N)\n",
        "        vals_t = vals_lt + (vals_rt - vals_lt) * ur_coords_offset_lt[..., 1]  # along the j axis (n_Wi), top\n",
        "        vals_b = vals_lb + (vals_rb - vals_lb) * ur_coords_offset_lt[..., 1]  # along the j axis (n_Wi), bottom\n",
        "\n",
        "        # second linear interpolation\n",
        "        input_offsets = vals_t + (vals_b - vals_t) * ur_coords_offset_lt[..., 0]  # along the i axis (n_Hi)\n",
        "\n",
        "        # reshape back to output shape\n",
        "        input_offsets = tf.reshape(input_offsets, (m, n_Ho, n_Wo, n_C, N))\n",
        "\n",
        "        return input_offsets"
      ],
      "metadata": {
        "id": "pTk5fJdn30uR"
      },
      "execution_count": 6,
      "outputs": []
    },
    {
      "cell_type": "markdown",
      "source": [
        "Constructing the DC Model"
      ],
      "metadata": {
        "id": "0DGcleoteU_V"
      }
    },
    {
      "cell_type": "code",
      "source": [
        "def DCNet_model_2020(input_shape, classes=8, trainable=True):\n",
        "    \"\"\"\n",
        "    Deformable Convolution model with 4 Blocks of DC layers (paper used 5), \n",
        "    followed by Global Avg Pooling (instead of a FC layer) and 1 FC output layer with sigmoid activation.\n",
        "    :param input_shape: (52, 52, 1)\n",
        "    :param classes: 8\n",
        "    :return: keras model object\n",
        "    \"\"\"\n",
        "\n",
        "    X_input = layers.Input(input_shape)\n",
        "\n",
        "    # Module 1\n",
        "    X = layers.Conv2D(name='conv2d_module_1', \n",
        "                      filters=32, \n",
        "                      kernel_size=5, \n",
        "                      strides=1, \n",
        "                      padding='valid', \n",
        "                      kernel_initializer='random_normal'\n",
        "                      )(X_input)\n",
        "    X = layers.BatchNormalization(axis=3, name='bn_1')(X)\n",
        "    X = layers.Activation('relu')(X)\n",
        "\n",
        "    # Module 2\n",
        "    name='module_2'\n",
        "    X = layers.Conv2D(name=f'conv2d_{name}', \n",
        "                      filters=64, \n",
        "                      kernel_size=3, \n",
        "                      strides=1, \n",
        "                      padding='valid', \n",
        "                      kernel_initializer='random_normal'\n",
        "                      )(X)\n",
        "    X = DefConv_full(X, filters=64, kernel_size=3, strides=1, name=name)\n",
        "    X = layers.BatchNormalization(axis=3, name='bn_2')(X)\n",
        "    X = layers.Activation('relu')(X)\n",
        "\n",
        "    # Module 3\n",
        "    name='module_3'\n",
        "    X = layers.Conv2D(name=f'conv2d_{name}', \n",
        "                      filters=128, \n",
        "                      kernel_size=3, \n",
        "                      strides=1, \n",
        "                      padding='valid', \n",
        "                      kernel_initializer='random_normal'\n",
        "                      )(X)\n",
        "    X = DefConv_full(X, filters=128, kernel_size=3, strides=1, name=name)\n",
        "    X = layers.BatchNormalization(axis=3, name='bn_3')(X)\n",
        "    X = layers.Activation('relu')(X)\n",
        "\n",
        "    # Module 4\n",
        "    name='module_4'\n",
        "    X = layers.Conv2D(name=f'conv2d_{name}', \n",
        "                      filters=128, \n",
        "                      kernel_size=3, \n",
        "                      strides=1, \n",
        "                      padding='valid', \n",
        "                      kernel_initializer='random_normal'\n",
        "                      )(X)\n",
        "    X = DefConv_full(X, filters=128, kernel_size=3, strides=1, name=name)\n",
        "    X = layers.BatchNormalization(axis=3, name='bn_4')(X)\n",
        "    X = layers.Activation('relu')(X)\n",
        "\n",
        "    # Module 5\n",
        "    # X = layers.Flatten()(X)\n",
        "    # X = layers.Dense(units=64, activation='relu')(X)\n",
        "    # instead of the dense layer (many millions of parameters), I'll use Global Avg Pooling\n",
        "    X = layers.GlobalAvgPool2D(name='GlbAvgPool')(X)\n",
        "    X = layers.Dense(units=classes, activation='sigmoid')(X)\n",
        "\n",
        "    model = tf.keras.Model(inputs=X_input, outputs=X)\n",
        "    return model"
      ],
      "metadata": {
        "id": "0tP6M4IGnqVy"
      },
      "execution_count": 7,
      "outputs": []
    },
    {
      "cell_type": "code",
      "source": [
        "def DCNN_model_2017(input_shape, classes=8, trainable=True):\n",
        "    \"\"\"\n",
        "    Deformable Convolution model with 4 Blocks of DC layers (paper used 5), \n",
        "    followed by Global Avg Pooling (instead of a FC layer) and 1 FC output layer with sigmoid activation.\n",
        "    :param input_shape: (52, 52, 1)\n",
        "    :param classes: 8\n",
        "    :return: keras model object\n",
        "    \"\"\"\n",
        "\n",
        "    X_input = layers.Input(input_shape)\n",
        "\n",
        "    \n",
        "\n",
        "    # Block 1\n",
        "    kernel_size_1 = 3\n",
        "    strides_1 = 2\n",
        "    offsets_1 = layers.Conv2D(name='Conv2D_offsets_1',\n",
        "                              filters=2 * kernel_size_1**2,\n",
        "                              kernel_size=kernel_size_1,\n",
        "                              strides=strides_1,\n",
        "                              padding='same',\n",
        "                              kernel_initializer='random_normal'\n",
        "                              )(X_input)\n",
        "    X = DefConvLayer_red(name='defconv_1',\n",
        "                         filters=32,\n",
        "                         kernel_size=kernel_size_1,\n",
        "                         strides=strides_1\n",
        "                         )(X_input, offsets_1)\n",
        "    X = layers.BatchNormalization(axis=3, name='bn_1')(X)\n",
        "    X = layers.Activation('relu')(X)\n",
        "    \n",
        "    # Block 2\n",
        "    kernel_size_2 = 3\n",
        "    strides_2 = 1\n",
        "    offsets_2 = layers.Conv2D(name='Conv2D_offsets_2',\n",
        "                              filters=2 * kernel_size_2**2,\n",
        "                              kernel_size=kernel_size_2,\n",
        "                              strides=strides_2,\n",
        "                              padding='same',\n",
        "                              kernel_initializer='random_normal')(X)\n",
        "    X = DefConvLayer_red(filters=64,\n",
        "                         kernel_size=kernel_size_2,\n",
        "                         strides=strides_2,\n",
        "                         name='defconv_2')(X, offsets_2)\n",
        "    X = layers.BatchNormalization(axis=3, name='bn_2')(X)\n",
        "    X = layers.Activation('relu')(X)\n",
        "    # X = layers.MaxPool2D(pool_size=(3, 3), strides=(2, 2), name='MaxPool_2')(X)\n",
        "\n",
        "    # Block 3\n",
        "    kernel_size_3 = 3\n",
        "    strides_3 = 2\n",
        "    offsets_3 = layers.Conv2D(name='Conv2D_offsets_3',\n",
        "                              filters=2 * kernel_size_3**2,\n",
        "                              kernel_size=kernel_size_3,\n",
        "                              strides=strides_3,\n",
        "                              padding='same',\n",
        "                              kernel_initializer='random_normal')(X)\n",
        "    X = DefConvLayer_red(filters=128,\n",
        "                         kernel_size=kernel_size_3,\n",
        "                         strides=strides_3,\n",
        "                         name='defconv_3')(X, offsets_3)\n",
        "    X = layers.BatchNormalization(axis=3, name='bn_3')(X)\n",
        "    X = layers.Activation('relu')(X)\n",
        "    \n",
        "    # Block 4\n",
        "    kernel_size_4 = 3\n",
        "    strides_4 = 2\n",
        "    offsets_4 = layers.Conv2D(name='Conv2D_offsets_4',\n",
        "                              filters=2 * kernel_size_4**2,\n",
        "                              kernel_size=kernel_size_4,\n",
        "                              strides=strides_4,\n",
        "                              padding='same',\n",
        "                              kernel_initializer='random_normal')(X)\n",
        "    X = DefConvLayer_red(filters=128,\n",
        "                         kernel_size=kernel_size_4,\n",
        "                         strides=strides_4,\n",
        "                         name='defconv_4')(X, offsets_4)\n",
        "    X = layers.BatchNormalization(axis=3, name='bn_4')(X)\n",
        "    X = layers.Activation('relu')(X)\n",
        "\n",
        "    # Pooling Layer (instead of FC1) with number of units as the number of channels (256 above)\n",
        "    X = layers.GlobalAvgPool2D(name='GlbAvgPool')(X)\n",
        "\n",
        "    # FC output Layer\n",
        "    X = layers.Dense(units=classes, activation='sigmoid', name='FC', trainable=trainable)(X)\n",
        "\n",
        "    model = tf.keras.Model(inputs=X_input, outputs=X)\n",
        "    return model"
      ],
      "metadata": {
        "id": "BTlKfy6VeYRc"
      },
      "execution_count": 8,
      "outputs": []
    },
    {
      "cell_type": "code",
      "source": [
        "model = DCNN_model_2017(input_shape=(n_H, n_W, 1), classes=8, trainable=True)\n",
        "print(model.summary())"
      ],
      "metadata": {
        "colab": {
          "base_uri": "https://localhost:8080/"
        },
        "id": "U4N0g6fAemrm",
        "outputId": "c50fd592-d1f1-4db5-d712-613a7f5e1f58"
      },
      "execution_count": 9,
      "outputs": [
        {
          "output_type": "stream",
          "name": "stdout",
          "text": [
            "Model: \"model\"\n",
            "__________________________________________________________________________________________________\n",
            " Layer (type)                   Output Shape         Param #     Connected to                     \n",
            "==================================================================================================\n",
            " input_1 (InputLayer)           [(None, 52, 52, 1)]  0           []                               \n",
            "                                                                                                  \n",
            " Conv2D_offsets_1 (Conv2D)      (None, 26, 26, 18)   180         ['input_1[0][0]']                \n",
            "                                                                                                  \n",
            " defconv_1 (DefConvLayer_red)   (None, 26, 26, 32)   288         ['input_1[0][0]',                \n",
            "                                                                  'Conv2D_offsets_1[0][0]']       \n",
            "                                                                                                  \n",
            " bn_1 (BatchNormalization)      (None, 26, 26, 32)   128         ['defconv_1[0][0]']              \n",
            "                                                                                                  \n",
            " activation (Activation)        (None, 26, 26, 32)   0           ['bn_1[0][0]']                   \n",
            "                                                                                                  \n",
            " Conv2D_offsets_2 (Conv2D)      (None, 26, 26, 18)   5202        ['activation[0][0]']             \n",
            "                                                                                                  \n",
            " defconv_2 (DefConvLayer_red)   (None, 26, 26, 64)   18432       ['activation[0][0]',             \n",
            "                                                                  'Conv2D_offsets_2[0][0]']       \n",
            "                                                                                                  \n",
            " bn_2 (BatchNormalization)      (None, 26, 26, 64)   256         ['defconv_2[0][0]']              \n",
            "                                                                                                  \n",
            " activation_1 (Activation)      (None, 26, 26, 64)   0           ['bn_2[0][0]']                   \n",
            "                                                                                                  \n",
            " Conv2D_offsets_3 (Conv2D)      (None, 13, 13, 18)   10386       ['activation_1[0][0]']           \n",
            "                                                                                                  \n",
            " defconv_3 (DefConvLayer_red)   (None, 13, 13, 128)  73728       ['activation_1[0][0]',           \n",
            "                                                                  'Conv2D_offsets_3[0][0]']       \n",
            "                                                                                                  \n",
            " bn_3 (BatchNormalization)      (None, 13, 13, 128)  512         ['defconv_3[0][0]']              \n",
            "                                                                                                  \n",
            " activation_2 (Activation)      (None, 13, 13, 128)  0           ['bn_3[0][0]']                   \n",
            "                                                                                                  \n",
            " Conv2D_offsets_4 (Conv2D)      (None, 7, 7, 18)     20754       ['activation_2[0][0]']           \n",
            "                                                                                                  \n",
            " defconv_4 (DefConvLayer_red)   (None, 7, 7, 128)    147456      ['activation_2[0][0]',           \n",
            "                                                                  'Conv2D_offsets_4[0][0]']       \n",
            "                                                                                                  \n",
            " bn_4 (BatchNormalization)      (None, 7, 7, 128)    512         ['defconv_4[0][0]']              \n",
            "                                                                                                  \n",
            " activation_3 (Activation)      (None, 7, 7, 128)    0           ['bn_4[0][0]']                   \n",
            "                                                                                                  \n",
            " GlbAvgPool (GlobalAveragePooli  (None, 128)         0           ['activation_3[0][0]']           \n",
            " ng2D)                                                                                            \n",
            "                                                                                                  \n",
            " FC (Dense)                     (None, 8)            1032        ['GlbAvgPool[0][0]']             \n",
            "                                                                                                  \n",
            "==================================================================================================\n",
            "Total params: 278,866\n",
            "Trainable params: 278,162\n",
            "Non-trainable params: 704\n",
            "__________________________________________________________________________________________________\n",
            "None\n"
          ]
        }
      ]
    },
    {
      "cell_type": "markdown",
      "source": [
        "Define Custom Accuracy Measure (exact matches)"
      ],
      "metadata": {
        "id": "hxZSXb1hnokb"
      }
    },
    {
      "cell_type": "code",
      "source": [
        "class MultiLabel_Accuracy(tf.keras.metrics.Metric):\n",
        "    def __init__(self, name='multilabel_accuracy', threshold=0.5):\n",
        "        super(MultiLabel_Accuracy, self).__init__(name=name)\n",
        "        self.accuracy = self.add_weight(name='accuracy', initializer='zeros')\n",
        "        self.threshold = threshold\n",
        "        self.count = self.add_weight(name='count', initializer='zeros')\n",
        "\n",
        "    def result(self):\n",
        "        return tf.math.divide(self.accuracy, self.count)\n",
        "\n",
        "    def reset_state(self):\n",
        "        self.accuracy.assign(0)\n",
        "        self.count.assign(0)\n",
        "\n",
        "    def update_state(self, y_true, y_pred, sample_weight=None):\n",
        "        self.count.assign_add(tf.cast(tf.shape(y_true)[0], dtype='float32'))\n",
        "        pred = tf.where(y_pred > self.threshold, 1, 0)\n",
        "\n",
        "        tmp = tf.cast(y_true == pred, dtype='float32')\n",
        "        tmp = tf.reduce_sum(tmp, axis=-1)\n",
        "        # hard-coded 8 labels total\n",
        "        tmp = tf.where(tmp==8, 1, 0)\n",
        "        tmp = tf.reduce_sum(tmp)\n",
        "\n",
        "        self.accuracy.assign_add(tf.cast(tmp, dtype='float32'))"
      ],
      "metadata": {
        "id": "pvXRtV3OJJwT"
      },
      "execution_count": 10,
      "outputs": []
    },
    {
      "cell_type": "code",
      "source": [
        "optimizer = tf.keras.optimizers.SGD(learning_rate=0.01, momentum=.9) # default lr=0.001\n",
        "metric = MultiLabel_Accuracy(name='multilabel_accuracy')\n",
        "model.compile(optimizer=optimizer, loss='binary_crossentropy', metrics=[metric])"
      ],
      "metadata": {
        "id": "r3wC3D2ESulB"
      },
      "execution_count": 11,
      "outputs": []
    },
    {
      "cell_type": "code",
      "source": [
        "# metric = MultiLabel_Accuracy(name='multilabel_accuracy')\n",
        "# checkpoint_filepath = filepath+'checkpoint/'\n",
        "# custom_obj = {}\n",
        "# custom_obj['multilabel_accuracy'] = MultiLabel_Accuracy\n",
        "# custom_obj['DefConvLayer_red'] = DefConvLayer_red\n",
        "# model = tf.keras.models.load_model(checkpoint_filepath, custom_objects=custom_obj)"
      ],
      "metadata": {
        "id": "_PYzgmcyqQW_"
      },
      "execution_count": 12,
      "outputs": []
    },
    {
      "cell_type": "code",
      "source": [
        "checkpoint_filepath = filepath+'checkpoint'\n",
        "model_checkpoint_callback = tf.keras.callbacks.ModelCheckpoint(filepath=checkpoint_filepath,\n",
        "                                                               save_weights_only=True,\n",
        "                                                               monitor='val_multilabel_accuracy',\n",
        "                                                               mode='max',\n",
        "                                                               save_best_only=True)\n",
        "model_early_stopping = tf.keras.callbacks.EarlyStopping(monitor='val_loss', patience=3)\n",
        "\n",
        "\n",
        "model_history = model.fit(train_x, train_y, \n",
        "                          epochs=20,\n",
        "                          validation_data=(dev_x, dev_y),\n",
        "                          batch_size=32,\n",
        "                          callbacks=[model_checkpoint_callback]\n",
        "                          )"
      ],
      "metadata": {
        "colab": {
          "base_uri": "https://localhost:8080/"
        },
        "id": "lTP124aEUb_v",
        "outputId": "30f2294b-b2b0-48a9-dcbb-8491c2528f68"
      },
      "execution_count": 13,
      "outputs": [
        {
          "output_type": "stream",
          "name": "stdout",
          "text": [
            "Epoch 1/20\n",
            "951/951 [==============================] - 2144s 2s/step - loss: 0.3418 - multilabel_accuracy: 0.2839 - val_loss: 0.2677 - val_multilabel_accuracy: 0.3162\n",
            "Epoch 2/20\n",
            "951/951 [==============================] - 2126s 2s/step - loss: 0.1727 - multilabel_accuracy: 0.5560 - val_loss: 0.1879 - val_multilabel_accuracy: 0.4783\n",
            "Epoch 3/20\n",
            "951/951 [==============================] - 2131s 2s/step - loss: 0.1275 - multilabel_accuracy: 0.6061 - val_loss: 0.2918 - val_multilabel_accuracy: 0.4370\n",
            "Epoch 4/20\n",
            "951/951 [==============================] - 2133s 2s/step - loss: 0.1050 - multilabel_accuracy: 0.6907 - val_loss: 0.1046 - val_multilabel_accuracy: 0.6875\n",
            "Epoch 5/20\n",
            "951/951 [==============================] - 2134s 2s/step - loss: 0.0769 - multilabel_accuracy: 0.8492 - val_loss: 0.0680 - val_multilabel_accuracy: 0.8758\n",
            "Epoch 6/20\n",
            "951/951 [==============================] - 2138s 2s/step - loss: 0.0527 - multilabel_accuracy: 0.9049 - val_loss: 0.0755 - val_multilabel_accuracy: 0.8671\n",
            "Epoch 7/20\n",
            "951/951 [==============================] - 2144s 2s/step - loss: 0.0408 - multilabel_accuracy: 0.9274 - val_loss: 0.0454 - val_multilabel_accuracy: 0.9129\n",
            "Epoch 8/20\n",
            "951/951 [==============================] - 2142s 2s/step - loss: 0.0345 - multilabel_accuracy: 0.9359 - val_loss: 0.0459 - val_multilabel_accuracy: 0.8990\n",
            "Epoch 9/20\n",
            "951/951 [==============================] - 2144s 2s/step - loss: 0.0305 - multilabel_accuracy: 0.9438 - val_loss: 0.0812 - val_multilabel_accuracy: 0.7969\n",
            "Epoch 10/20\n",
            "951/951 [==============================] - 2129s 2s/step - loss: 0.0271 - multilabel_accuracy: 0.9477 - val_loss: 0.0570 - val_multilabel_accuracy: 0.9161\n",
            "Epoch 11/20\n",
            "951/951 [==============================] - 2129s 2s/step - loss: 0.0256 - multilabel_accuracy: 0.9507 - val_loss: 0.1117 - val_multilabel_accuracy: 0.7390\n",
            "Epoch 12/20\n",
            "951/951 [==============================] - 2127s 2s/step - loss: 0.0242 - multilabel_accuracy: 0.9525 - val_loss: 0.1119 - val_multilabel_accuracy: 0.9056\n",
            "Epoch 13/20\n",
            "951/951 [==============================] - 2130s 2s/step - loss: 0.0225 - multilabel_accuracy: 0.9565 - val_loss: 0.0879 - val_multilabel_accuracy: 0.7785\n",
            "Epoch 14/20\n",
            "951/951 [==============================] - 2136s 2s/step - loss: 0.0208 - multilabel_accuracy: 0.9584 - val_loss: 0.0196 - val_multilabel_accuracy: 0.9582\n",
            "Epoch 15/20\n",
            "951/951 [==============================] - 2131s 2s/step - loss: 0.0197 - multilabel_accuracy: 0.9614 - val_loss: 0.0796 - val_multilabel_accuracy: 0.9171\n",
            "Epoch 16/20\n",
            "951/951 [==============================] - 2133s 2s/step - loss: 0.0190 - multilabel_accuracy: 0.9616 - val_loss: 0.0270 - val_multilabel_accuracy: 0.9387\n",
            "Epoch 17/20\n",
            "951/951 [==============================] - 2149s 2s/step - loss: 0.0181 - multilabel_accuracy: 0.9625 - val_loss: 0.0915 - val_multilabel_accuracy: 0.7640\n",
            "Epoch 18/20\n",
            "951/951 [==============================] - 2147s 2s/step - loss: 0.0173 - multilabel_accuracy: 0.9656 - val_loss: 0.1744 - val_multilabel_accuracy: 0.8713\n",
            "Epoch 19/20\n",
            "951/951 [==============================] - 2144s 2s/step - loss: 0.0164 - multilabel_accuracy: 0.9678 - val_loss: 0.0214 - val_multilabel_accuracy: 0.9587\n",
            "Epoch 20/20\n",
            "951/951 [==============================] - 2129s 2s/step - loss: 0.0163 - multilabel_accuracy: 0.9677 - val_loss: 0.0220 - val_multilabel_accuracy: 0.9558\n"
          ]
        }
      ]
    },
    {
      "cell_type": "code",
      "source": [
        "model.save(filepath+'model_save/')"
      ],
      "metadata": {
        "colab": {
          "base_uri": "https://localhost:8080/"
        },
        "id": "m-nrwfMj2j-i",
        "outputId": "69450539-a0ca-4316-97fd-e7c8c89fdaf1"
      },
      "execution_count": 14,
      "outputs": [
        {
          "output_type": "stream",
          "name": "stdout",
          "text": [
            "INFO:tensorflow:Assets written to: drive/MyDrive/Colab Notebooks/Wafer_defect/Trained_Model_wGPU_20E_weights/model_save/assets\n"
          ]
        }
      ]
    },
    {
      "cell_type": "code",
      "source": [
        "train_loss = model_history.history['loss']\n",
        "train_acc = model_history.history['multilabel_accuracy']\n",
        "\n",
        "val_loss = model_history.history['val_loss']\n",
        "val_acc = model_history.history['val_multilabel_accuracy']"
      ],
      "metadata": {
        "id": "NJZXuGMaHKRP"
      },
      "execution_count": 15,
      "outputs": []
    },
    {
      "cell_type": "code",
      "source": [
        "plt.subplot(3,3,1)\n",
        "plt.plot((np.arange(1, len(train_loss)+1)), train_loss)\n",
        "plt.title('Train Loss')\n",
        "\n",
        "plt.subplot(3,3,3)\n",
        "plt.plot((np.arange(1,len(train_acc)+1)), train_acc)\n",
        "plt.title('Train Accuracy')\n",
        "\n",
        "plt.subplot(3,3,7)\n",
        "plt.plot((np.arange(1, len(val_loss)+1)), val_loss)\n",
        "plt.title('Validation Loss')\n",
        "\n",
        "plt.subplot(3,3,9)\n",
        "plt.plot((np.arange(1,len(val_acc)+1)), val_acc)\n",
        "plt.title('Validation Accuracy')\n"
      ],
      "metadata": {
        "colab": {
          "base_uri": "https://localhost:8080/",
          "height": 298
        },
        "id": "VZxT2LbsZ8z7",
        "outputId": "5e518e22-be01-4926-f118-405f383c88d3"
      },
      "execution_count": 16,
      "outputs": [
        {
          "output_type": "execute_result",
          "data": {
            "text/plain": [
              "Text(0.5, 1.0, 'Validation Accuracy')"
            ]
          },
          "metadata": {},
          "execution_count": 16
        },
        {
          "output_type": "display_data",
          "data": {
            "image/png": "[encoded data removed]",
            "text/plain": [
              "<Figure size 432x288 with 4 Axes>"
            ]
          },
          "metadata": {
            "needs_background": "light"
          }
        }
      ]
    },
    {
      "cell_type": "markdown",
      "source": [
        "Load the trained Model"
      ],
      "metadata": {
        "id": "GQG1TFWJG2uu"
      }
    },
    {
      "cell_type": "markdown",
      "source": [
        "Some prediction examples"
      ],
      "metadata": {
        "id": "_ZHYbbPngK6F"
      }
    },
    {
      "cell_type": "code",
      "source": [
        "random_examples = np.random.randint(0, dev_x.shape[0], size=9)\n",
        "\n",
        "predictions = model(dev_x[random_examples, :,:, 0])\n",
        "predictions = np.where(predictions>0.5, 1, 0)\n",
        "\n",
        "metric.reset_state()\n",
        "metric.update_state(dev_y[random_examples], predictions)\n",
        "print(f\"Accuracy of random samples: {metric.result().numpy()}\")"
      ],
      "metadata": {
        "id": "x60TzZcRgKrH",
        "colab": {
          "base_uri": "https://localhost:8080/"
        },
        "outputId": "6ff2423e-8fbd-4ada-a554-9d7bd875783a"
      },
      "execution_count": 17,
      "outputs": [
        {
          "output_type": "stream",
          "name": "stdout",
          "text": [
            "Accuracy of random samples: 1.0\n"
          ]
        }
      ]
    },
    {
      "cell_type": "code",
      "source": [
        "for i in range(3):\n",
        "    plt.subplot(5,5, 10*i+1)\n",
        "    plt.imshow(dev_x[random_examples[i],:,:,0])\n",
        "    plt.title(f'true: {dev_y[random_examples[i]]}\\npred: {predictions[i]}')\n",
        "\n",
        "    plt.subplot(5,5, 10*i+3)\n",
        "    plt.imshow(dev_x[random_examples[i+3],:,:,0])\n",
        "    plt.title(f'true: {dev_y[random_examples[i+3]]}\\npred: {predictions[i+3]}')\n",
        "\n",
        "    plt.subplot(5,5, 10*i+5)\n",
        "    plt.imshow(dev_x[random_examples[i+6],:,:,0])\n",
        "    plt.title(f'true: {dev_y[random_examples[i+6]]}\\npred: {predictions[i+6]}')"
      ],
      "metadata": {
        "colab": {
          "base_uri": "https://localhost:8080/",
          "height": 296
        },
        "id": "_w3zdhSKmhqi",
        "outputId": "fd78a71a-9ed5-47c6-9753-4cb119dff8c8"
      },
      "execution_count": 18,
      "outputs": [
        {
          "output_type": "display_data",
          "data": {
            "image/png": "[encoded data removed]",
            "text/plain": [
              "<Figure size 432x288 with 9 Axes>"
            ]
          },
          "metadata": {
            "needs_background": "light"
          }
        }
      ]
    },
    {
      "cell_type": "code",
      "source": [
        "predictions = model.predict(test_x, batch_size=64, verbose=1)\n",
        "predictions = np.where(predictions>.5, 1, 0)\n",
        "\n",
        "metric.reset_state()\n",
        "metric.update_state(test_y, predictions)\n",
        "print(f\"Test set accuracy: {metric.result().numpy()}\")"
      ],
      "metadata": {
        "colab": {
          "base_uri": "https://localhost:8080/"
        },
        "id": "dYs0D6KoxtST",
        "outputId": "51d9c034-e540-4062-b421-5913d1862cea"
      },
      "execution_count": 19,
      "outputs": [
        {
          "output_type": "stream",
          "name": "stdout",
          "text": [
            "60/60 [==============================] - 231s 4s/step\n",
            "Test set accuracy: 0.9573908448219299\n"
          ]
        }
      ]
    },
    {
      "cell_type": "code",
      "source": [
        "from sklearn import metrics\n",
        "f1_score = metrics.f1_score(test_y, predictions, average=None)\n",
        "print(f\"confusion metrices:\\n{metrics.multilabel_confusion_matrix(test_y, predictions)}\")\n",
        "print(f\"f-score per class:\\n{f1_score}\")\n",
        "print(f\"average f1-score: {np.average(f1_score)}\")"
      ],
      "metadata": {
        "colab": {
          "base_uri": "https://localhost:8080/"
        },
        "id": "RmrYWwfAf4H-",
        "outputId": "2b167fbe-dac0-41f9-fec6-b913d1bbffee"
      },
      "execution_count": 20,
      "outputs": [
        {
          "output_type": "stream",
          "name": "stdout",
          "text": [
            "confusion metrices:\n",
            "[[[2500    0]\n",
            "  [   0 1302]]\n",
            "\n",
            " [[2563    0]\n",
            "  [   1 1238]]\n",
            "\n",
            " [[2498    0]\n",
            "  [  43 1261]]\n",
            "\n",
            " [[2578   26]\n",
            "  [   0 1198]]\n",
            "\n",
            " [[2006    2]\n",
            "  [  73 1721]]\n",
            "\n",
            " [[3788    3]\n",
            "  [   0   11]]\n",
            "\n",
            " [[1888    7]\n",
            "  [  32 1875]]\n",
            "\n",
            " [[3711    0]\n",
            "  [   0   91]]]\n",
            "f-score per class:\n",
            "[1.         0.99959629 0.98323587 0.98926507 0.97867501 0.88\n",
            " 0.98970705 1.        ]\n",
            "average f1-score: 0.977559909661057\n"
          ]
        }
      ]
    },
    {
      "cell_type": "markdown",
      "source": [
        "Evaluating Accuracy for Multi-Label Dataset"
      ],
      "metadata": {
        "id": "wJIJezpgFSyL"
      }
    },
    {
      "cell_type": "code",
      "source": [
        "# defining Pattern Type Labels\n",
        "pdict = {}\n",
        "\n",
        "# No Fault\n",
        "pdict['C1'] = [0, 0, 0, 0, 0, 0, 0, 0] # Normal\n",
        "\n",
        "# Single Defect\n",
        "pdict['C2'] = [1, 0, 0, 0, 0, 0, 0, 0] # Center\n",
        "pdict['C3'] = [0, 1, 0, 0, 0, 0, 0, 0] # Donut\n",
        "pdict['C4'] = [0, 0, 1, 0, 0, 0, 0, 0] # Edge_Local\n",
        "pdict['C5'] = [0, 0, 0, 1, 0, 0, 0, 0] # Edge_Ring\n",
        "pdict['C6'] = [0, 0, 0, 0, 1, 0, 0, 0] # Local\n",
        "pdict['C7'] = [0, 0, 0, 0, 0, 1, 0, 0] # Near_Full\n",
        "pdict['C8'] = [0, 0, 0, 0, 0, 0, 1, 0] # Scratch\n",
        "pdict['C9'] = [0, 0, 0, 0, 0, 0, 0, 1] # Random\n",
        "\n",
        "# 2 Mixed-type Defect\n",
        "pdict['C10'] = [1, 0, 1, 0, 0, 0, 0, 0]\n",
        "pdict['C11'] = [1, 0, 0, 1, 0, 0, 0, 0]\n",
        "pdict['C12'] = [1, 0, 0, 0, 1, 0, 0, 0]\n",
        "pdict['C13'] = [1, 0, 0, 0, 0, 0, 1, 0]\n",
        "pdict['C14'] = [0, 1, 1, 0, 0, 0, 0, 0]\n",
        "pdict['C15'] = [0, 1, 0, 1, 0, 0, 0, 0]\n",
        "pdict['C16'] = [0, 1, 0, 0, 1, 0, 0, 0]\n",
        "pdict['C17'] = [0, 1, 0, 0, 0, 0, 1, 0]\n",
        "pdict['C18'] = [0, 0, 1, 0, 1, 0, 0, 0]\n",
        "pdict['C19'] = [0, 0, 1, 0, 0, 0, 1, 0]\n",
        "pdict['C20'] = [0, 0, 0, 1, 1, 0, 0, 0]\n",
        "pdict['C21'] = [0, 0, 0, 1, 0, 0, 1, 0]\n",
        "pdict['C22'] = [0, 0, 0, 0, 1, 0, 1, 0]\n",
        "\n",
        "# 3 Mixed-type Defect\n",
        "pdict['C23'] = [1, 0, 1, 0, 1, 0, 0, 0]\n",
        "pdict['C24'] = [1, 0, 1, 0, 0, 0, 1, 0]\n",
        "pdict['C25'] = [1, 0, 0, 1, 1, 0, 0, 0]\n",
        "pdict['C26'] = [1, 0, 0, 1, 0, 0, 1, 0]\n",
        "pdict['C27'] = [1, 0, 0, 0, 1, 0, 1, 0]\n",
        "pdict['C28'] = [0, 1, 1, 0, 1, 0, 0, 0]\n",
        "pdict['C29'] = [0, 1, 1, 0, 0, 0, 1, 0]\n",
        "pdict['C30'] = [0, 1, 0, 1, 1, 0, 0, 0]\n",
        "pdict['C31'] = [0, 1, 0, 1, 0, 0, 1, 0]\n",
        "pdict['C32'] = [0, 1, 0, 0, 1, 0, 1, 0]\n",
        "pdict['C33'] = [0, 0, 1, 0, 1, 0, 1, 0]\n",
        "pdict['C34'] = [0, 0, 0, 1, 1, 0, 1, 0]\n",
        "\n",
        "# 4 Mixed-type Defect\n",
        "pdict['C35'] = [1, 0, 1, 0, 1, 0, 1, 0]\n",
        "pdict['C36'] = [1, 0, 0, 1, 1, 0, 1, 0]\n",
        "pdict['C37'] = [0, 1, 1, 0, 1, 0, 1, 0]\n",
        "pdict['C38'] = [0, 1, 0, 1, 1, 0, 1, 0]"
      ],
      "metadata": {
        "id": "OFD2a6eqFZGD"
      },
      "execution_count": 21,
      "outputs": []
    },
    {
      "cell_type": "code",
      "source": [
        "def type_eval(test_x, test_y, pdict):\n",
        "  \"\"\"\n",
        "  test_x, test_y: the dataset on which to perform the evaluation\n",
        "  pdict: a dictionary with the pattern labels\n",
        "  \"\"\"\n",
        "\n",
        "  acc_list = []\n",
        "\n",
        "  for i in range(1, 39):\n",
        "    print(f\"Evaluating Pattern C{i}:\")\n",
        "    idx = np.all(test_y == [pdict['C'+str(i)]], axis=1)\n",
        "    \n",
        "    pred = model.predict(np.squeeze(test_x[idx,...]), batch_size=32, verbose=1)\n",
        "    pred = np.where(pred>.5, 1, 0)\n",
        "\n",
        "    metric.reset_state()\n",
        "    metric.update_state(np.squeeze(test_y[idx, :]), pred)\n",
        "    acc_list.append(metric.result().numpy())\n",
        "    print(f\"Accuracy for type {'C'+str(i)}: {metric.result().numpy()}\")\n",
        "  return acc_list\n"
      ],
      "metadata": {
        "id": "UP-IK4sNgzda"
      },
      "execution_count": 39,
      "outputs": []
    },
    {
      "cell_type": "code",
      "source": [
        "eval_x = np.concatenate((dev_x, test_x), axis=0)\n",
        "eval_y = np.concatenate((dev_y, test_y), axis=0)\n",
        "\n",
        "acc_list = type_eval(eval_x, eval_y, pdict)"
      ],
      "metadata": {
        "colab": {
          "base_uri": "https://localhost:8080/"
        },
        "id": "XRyvohKYrtem",
        "outputId": "d757fc9d-8fdd-4002-dac7-4bb29323ae09"
      },
      "execution_count": 40,
      "outputs": [
        {
          "output_type": "stream",
          "name": "stdout",
          "text": [
            "Evaluating Pattern C1:\n",
            "6/6 [==============================] - 14s 2s/step\n",
            "Accuracy for type C1: 1.0\n",
            "Evaluating Pattern C2:\n",
            "7/7 [==============================] - 13s 2s/step\n",
            "Accuracy for type C2: 1.0\n",
            "Evaluating Pattern C3:\n",
            "7/7 [==============================] - 12s 2s/step\n",
            "Accuracy for type C3: 1.0\n",
            "Evaluating Pattern C4:\n",
            "6/6 [==============================] - 12s 2s/step\n",
            "Accuracy for type C4: 0.9738219976425171\n",
            "Evaluating Pattern C5:\n",
            "6/6 [==============================] - 11s 2s/step\n",
            "Accuracy for type C5: 0.9940119981765747\n",
            "Evaluating Pattern C6:\n",
            "6/6 [==============================] - 11s 2s/step\n",
            "Accuracy for type C6: 0.9835164546966553\n",
            "Evaluating Pattern C7:\n",
            "1/1 [==============================] - 2s 2s/step\n",
            "Accuracy for type C7: 0.9677419066429138\n",
            "Evaluating Pattern C8:\n",
            "7/7 [==============================] - 12s 2s/step\n",
            "Accuracy for type C8: 0.9949495196342468\n",
            "Evaluating Pattern C9:\n",
            "6/6 [==============================] - 12s 2s/step\n",
            "Accuracy for type C9: 0.9659090638160706\n",
            "Evaluating Pattern C10:\n",
            "7/7 [==============================] - 13s 2s/step\n",
            "Accuracy for type C10: 0.9595959782600403\n",
            "Evaluating Pattern C11:\n",
            "7/7 [==============================] - 12s 2s/step\n",
            "Accuracy for type C11: 1.0\n",
            "Evaluating Pattern C12:\n",
            "6/6 [==============================] - 12s 2s/step\n",
            "Accuracy for type C12: 0.984375\n",
            "Evaluating Pattern C13:\n",
            "7/7 [==============================] - 12s 2s/step\n",
            "Accuracy for type C13: 0.9897959232330322\n",
            "Evaluating Pattern C14:\n",
            "7/7 [==============================] - 13s 2s/step\n",
            "Accuracy for type C14: 0.9547738432884216\n",
            "Evaluating Pattern C15:\n",
            "8/8 [==============================] - 14s 2s/step\n",
            "Accuracy for type C15: 0.9735682606697083\n",
            "Evaluating Pattern C16:\n",
            "7/7 [==============================] - 13s 2s/step\n",
            "Accuracy for type C16: 0.9330143332481384\n",
            "Evaluating Pattern C17:\n",
            "7/7 [==============================] - 13s 2s/step\n",
            "Accuracy for type C17: 0.980861246585846\n",
            "Evaluating Pattern C18:\n",
            "7/7 [==============================] - 13s 2s/step\n",
            "Accuracy for type C18: 0.9851484894752502\n",
            "Evaluating Pattern C19:\n",
            "7/7 [==============================] - 13s 2s/step\n",
            "Accuracy for type C19: 0.9671361446380615\n",
            "Evaluating Pattern C20:\n",
            "7/7 [==============================] - 12s 2s/step\n",
            "Accuracy for type C20: 0.9549999833106995\n",
            "Evaluating Pattern C21:\n",
            "7/7 [==============================] - 13s 2s/step\n",
            "Accuracy for type C21: 0.9953051805496216\n",
            "Evaluating Pattern C22:\n",
            "7/7 [==============================] - 13s 2s/step\n",
            "Accuracy for type C22: 0.9490740895271301\n",
            "Evaluating Pattern C23:\n",
            "7/7 [==============================] - 14s 2s/step\n",
            "Accuracy for type C23: 0.9095237851142883\n",
            "Evaluating Pattern C24:\n",
            "13/13 [==============================] - 25s 2s/step\n",
            "Accuracy for type C24: 0.9818181991577148\n",
            "Evaluating Pattern C25:\n",
            "7/7 [==============================] - 13s 2s/step\n",
            "Accuracy for type C25: 0.976190447807312\n",
            "Evaluating Pattern C26:\n",
            "7/7 [==============================] - 13s 2s/step\n",
            "Accuracy for type C26: 0.9851484894752502\n",
            "Evaluating Pattern C27:\n",
            "7/7 [==============================] - 14s 2s/step\n",
            "Accuracy for type C27: 0.9417040348052979\n",
            "Evaluating Pattern C28:\n",
            "7/7 [==============================] - 13s 2s/step\n",
            "Accuracy for type C28: 0.9252336621284485\n",
            "Evaluating Pattern C29:\n",
            "7/7 [==============================] - 12s 2s/step\n",
            "Accuracy for type C29: 0.9343434572219849\n",
            "Evaluating Pattern C30:\n",
            "6/6 [==============================] - 11s 2s/step\n",
            "Accuracy for type C30: 0.95652174949646\n",
            "Evaluating Pattern C31:\n",
            "7/7 [==============================] - 13s 2s/step\n",
            "Accuracy for type C31: 0.9813953638076782\n",
            "Evaluating Pattern C32:\n",
            "6/6 [==============================] - 11s 2s/step\n",
            "Accuracy for type C32: 0.9101123809814453\n",
            "Evaluating Pattern C33:\n",
            "7/7 [==============================] - 13s 2s/step\n",
            "Accuracy for type C33: 0.8910890817642212\n",
            "Evaluating Pattern C34:\n",
            "7/7 [==============================] - 13s 2s/step\n",
            "Accuracy for type C34: 0.932692289352417\n",
            "Evaluating Pattern C35:\n",
            "7/7 [==============================] - 12s 2s/step\n",
            "Accuracy for type C35: 0.8578680157661438\n",
            "Evaluating Pattern C36:\n",
            "6/6 [==============================] - 12s 2s/step\n",
            "Accuracy for type C36: 0.939226508140564\n",
            "Evaluating Pattern C37:\n",
            "6/6 [==============================] - 12s 2s/step\n",
            "Accuracy for type C37: 0.8020833134651184\n",
            "Evaluating Pattern C38:\n",
            "7/7 [==============================] - 12s 2s/step\n",
            "Accuracy for type C38: 0.9086538553237915\n"
          ]
        }
      ]
    },
    {
      "cell_type": "code",
      "source": [
        "plt.figure()\n",
        "plt.title('single-type accuracy')\n",
        "plt.plot(np.arange(1, 10), acc_list[0:9])\n",
        "plt.ylim([0.8, 1.05])\n",
        "acc_list[0:9]"
      ],
      "metadata": {
        "colab": {
          "base_uri": "https://localhost:8080/",
          "height": 437
        },
        "id": "aRJzUPNGiTz6",
        "outputId": "083ee5d8-c81d-4210-9a75-9dcb2df83f8e"
      },
      "execution_count": 43,
      "outputs": [
        {
          "output_type": "execute_result",
          "data": {
            "text/plain": [
              "[1.0,\n",
              " 1.0,\n",
              " 1.0,\n",
              " 0.973822,\n",
              " 0.994012,\n",
              " 0.98351645,\n",
              " 0.9677419,\n",
              " 0.9949495,\n",
              " 0.96590906]"
            ]
          },
          "metadata": {},
          "execution_count": 43
        },
        {
          "output_type": "display_data",
          "data": {
            "image/png": "[encoded data removed]",
            "text/plain": [
              "<Figure size 432x288 with 1 Axes>"
            ]
          },
          "metadata": {
            "needs_background": "light"
          }
        }
      ]
    },
    {
      "cell_type": "code",
      "source": [
        "plt.figure()\n",
        "plt.title('two-types accuracy')\n",
        "plt.plot(np.arange(10, 23), acc_list[9:22])\n",
        "plt.ylim([0.8, 1.05])\n",
        "acc_list[9:22]"
      ],
      "metadata": {
        "colab": {
          "base_uri": "https://localhost:8080/",
          "height": 507
        },
        "id": "kV25j6TqiTnc",
        "outputId": "08956dc0-d64a-4061-dcf7-5d77dc5a0afa"
      },
      "execution_count": 44,
      "outputs": [
        {
          "output_type": "execute_result",
          "data": {
            "text/plain": [
              "[0.959596,\n",
              " 1.0,\n",
              " 0.984375,\n",
              " 0.9897959,\n",
              " 0.95477384,\n",
              " 0.97356826,\n",
              " 0.93301433,\n",
              " 0.98086125,\n",
              " 0.9851485,\n",
              " 0.96713614,\n",
              " 0.955,\n",
              " 0.9953052,\n",
              " 0.9490741]"
            ]
          },
          "metadata": {},
          "execution_count": 44
        },
        {
          "output_type": "display_data",
          "data": {
            "image/png": "[encoded data removed]",
            "text/plain": [
              "<Figure size 432x288 with 1 Axes>"
            ]
          },
          "metadata": {
            "needs_background": "light"
          }
        }
      ]
    },
    {
      "cell_type": "code",
      "source": [
        "plt.figure()\n",
        "plt.title('three-types accuracy')\n",
        "plt.plot(np.arange(23, 35), acc_list[22:34])\n",
        "plt.ylim([0.8, 1.05])\n",
        "acc_list[22:34]"
      ],
      "metadata": {
        "colab": {
          "base_uri": "https://localhost:8080/",
          "height": 489
        },
        "id": "0miOQsBhjQQg",
        "outputId": "f7a3eaa0-812a-4e1b-eae2-ec931a423282"
      },
      "execution_count": 45,
      "outputs": [
        {
          "output_type": "execute_result",
          "data": {
            "text/plain": [
              "[0.9095238,\n",
              " 0.9818182,\n",
              " 0.97619045,\n",
              " 0.9851485,\n",
              " 0.94170403,\n",
              " 0.92523366,\n",
              " 0.93434346,\n",
              " 0.95652175,\n",
              " 0.98139536,\n",
              " 0.9101124,\n",
              " 0.8910891,\n",
              " 0.9326923]"
            ]
          },
          "metadata": {},
          "execution_count": 45
        },
        {
          "output_type": "display_data",
          "data": {
            "image/png": "[encoded data removed]",
            "text/plain": [
              "<Figure size 432x288 with 1 Axes>"
            ]
          },
          "metadata": {
            "needs_background": "light"
          }
        }
      ]
    },
    {
      "cell_type": "code",
      "source": [
        "plt.figure()\n",
        "plt.title('four-types accuracy')\n",
        "plt.plot(np.arange(35, 39), acc_list[34:])\n",
        "plt.ylim([0.8, 1.05])\n",
        "acc_list[34:]"
      ],
      "metadata": {
        "colab": {
          "base_uri": "https://localhost:8080/",
          "height": 298
        },
        "id": "R2gwIngyjbvg",
        "outputId": "94013d66-89ca-47c3-dc0b-41480ef9e5ee"
      },
      "execution_count": 46,
      "outputs": [
        {
          "output_type": "execute_result",
          "data": {
            "text/plain": [
              "[0.857868, 0.9392265, 0.8020833, 0.90865386]"
            ]
          },
          "metadata": {},
          "execution_count": 46
        },
        {
          "output_type": "display_data",
          "data": {
            "image/png": "[encoded data removed]",
            "text/plain": [
              "<Figure size 432x288 with 1 Axes>"
            ]
          },
          "metadata": {
            "needs_background": "light"
          }
        }
      ]
    },
    {
      "cell_type": "markdown",
      "source": [
        "Generating Class Activation Maps\n",
        "\n",
        "Shows for a particular class, where in the image the model \"paid attention to\" for the prediction."
      ],
      "metadata": {
        "id": "cGNWdnBkr_nB"
      }
    },
    {
      "cell_type": "code",
      "source": [
        "import scipy as sp\n",
        "\n",
        "cam_model = tf.keras.Model(inputs=model.input, \n",
        "                           outputs=[model.get_layer('defconv_4').output, model.get_layer('FC').output])\n",
        "output_layer_weights = model.get_layer('FC').get_weights()[0] # exclude the bias\n",
        "\n",
        "idx = 24984 # 'donut' fault indices between 24000 and 24999\n",
        "img_class = 1 # fault: 'donut'\n",
        "\n",
        "img = np.expand_dims(dataset_x_cnn[idx,:,:,:], axis=0) # (1, 52, 52, 1)\n",
        "features, results = cam_model.predict(img)\n",
        "# \"features\" is the output of the last deconv layer with shape (1, 7, 7, 128)\n",
        "# \"results\" is the output of the model, or its predictions\n",
        "\n",
        "img_features = features[0] # (7, 7, 128)\n",
        "prediction = np.where(results[0]>.5, 1, 0)\n",
        "\n",
        "class_activation_weights = output_layer_weights[:, img_class] # (128,)\n",
        "# rescaling the features map to the original image size\n",
        "class_activation_features = sp.ndimage.zoom(img_features, (52/7, 52/7, 1), order=2) # (52, 52, 128)\n",
        "\n",
        "cam_output  = np.dot(class_activation_features, class_activation_weights)\n",
        "\n",
        "plt.figure(figsize=(8,8))\n",
        "plt.title(f'true: {dataset_y[idx]}\\npred: {prediction}')\n",
        "plt.imshow(cam_output, cmap='jet', alpha=0.5)\n",
        "plt.colorbar()\n",
        "plt.imshow(tf.squeeze(img), alpha=0.5)\n",
        "plt.show()\n"
      ],
      "metadata": {
        "colab": {
          "base_uri": "https://localhost:8080/",
          "height": 466
        },
        "id": "TUFSHw21FEQH",
        "outputId": "7fffa9b1-d9fd-4df2-a9d8-a3fc2c5d0496"
      },
      "execution_count": 47,
      "outputs": [
        {
          "output_type": "display_data",
          "data": {
            "image/png": "[encoded data removed]",
            "text/plain": [
              "<Figure size 576x576 with 2 Axes>"
            ]
          },
          "metadata": {
            "needs_background": "light"
          }
        }
      ]
    }
  ]
}